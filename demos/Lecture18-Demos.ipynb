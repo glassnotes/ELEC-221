{
 "cells": [
  {
   "cell_type": "markdown",
   "id": "42a30a4e-07e6-4d6d-83f2-68e8e6ac1516",
   "metadata": {},
   "source": [
    "# Lecture 18 Demos"
   ]
  },
  {
   "cell_type": "code",
   "execution_count": null,
   "id": "7a170da0-b225-49d8-8581-6b72fe7c7107",
   "metadata": {},
   "outputs": [],
   "source": [
    "import numpy as np\n",
    "import matplotlib.pyplot as plt\n",
    "\n",
    "plt.rcParams[\"font.size\"] = 16"
   ]
  },
  {
   "cell_type": "code",
   "execution_count": null,
   "id": "e3709104-12f6-4a0f-867e-4ae4373d267e",
   "metadata": {},
   "outputs": [],
   "source": [
    "f1, f2 = 6, 19\n",
    "\n",
    "L = 200\n",
    "time_range = np.linspace(0, 1, L)\n",
    "\n",
    "def signal(t):\n",
    "    return np.cos(2 * np.pi * f1 * t) + np.sin(2 * np.pi * f2 * t)"
   ]
  },
  {
   "cell_type": "code",
   "execution_count": null,
   "id": "2615dfc7-fbcf-4a80-9faf-c4f64a869357",
   "metadata": {},
   "outputs": [],
   "source": [
    "plt.figure(figsize=(8, 6))\n",
    "plt.plot(time_range, signal(time_range), linewidth=2)"
   ]
  },
  {
   "cell_type": "code",
   "execution_count": null,
   "id": "57ad8dd3-396c-4fa5-a4bb-08f12be59bab",
   "metadata": {},
   "outputs": [],
   "source": [
    "original_signal = signal(time_range)\n",
    "plt.figure(figsize=(14, 6))\n",
    "plt.stem(original_signal)"
   ]
  },
  {
   "cell_type": "code",
   "execution_count": null,
   "id": "34af7f17-7608-4aaf-b4ec-63f55c0eba60",
   "metadata": {},
   "outputs": [],
   "source": [
    "frequencies = np.fft.fftfreq(len(original_signal), 1/L)\n",
    "plt.figure(figsize=(8, 6))\n",
    "plt.ylim(0, 120)\n",
    "plt.plot(np.fft.fftshift(frequencies), np.fft.fftshift(np.abs(np.fft.fft(original_signal))))"
   ]
  },
  {
   "cell_type": "markdown",
   "id": "30d63b3f-a4fc-4066-9d9e-2c033b6c1723",
   "metadata": {},
   "source": [
    "## Downsampling"
   ]
  },
  {
   "cell_type": "code",
   "execution_count": null,
   "id": "beb6d680-8914-4252-8f74-476353d75a37",
   "metadata": {},
   "outputs": [],
   "source": [
    "def downsample(samples, N):\n",
    "    new_samples = np.copy(samples)\n",
    "    for idx in range(len(new_samples)):\n",
    "        if idx % N != 0:\n",
    "            new_samples[idx] = 0\n",
    "    return new_samples\n",
    "\n",
    "def downsample_and_compress(samples, N):\n",
    "    new_samples = np.zeros(len(samples) // N, dtype=samples.dtype)\n",
    "    for idx in range(len(new_samples)):\n",
    "        new_samples[idx] = samples[idx * N]\n",
    "    return new_samples"
   ]
  },
  {
   "cell_type": "code",
   "execution_count": null,
   "id": "ec0bd527-9c16-4ee7-abff-d15c548c9bef",
   "metadata": {},
   "outputs": [],
   "source": [
    "N = 2\n",
    "\n",
    "downsampled_signal = downsample(original_signal, N)\n",
    "plt.figure(figsize=(14, 6))\n",
    "plt.stem(downsampled_signal)"
   ]
  },
  {
   "cell_type": "code",
   "execution_count": null,
   "id": "623bde48-35db-4b62-a9b8-4a4a02e6202e",
   "metadata": {},
   "outputs": [],
   "source": [
    "frequencies = np.fft.fftfreq(len(downsampled_signal), 1 / L)\n",
    "plt.figure(figsize=(8, 6))\n",
    "plt.ylim(0, 120)\n",
    "plt.plot(np.fft.fftshift(frequencies), np.fft.fftshift(np.abs(np.fft.fft(downsampled_signal))))"
   ]
  },
  {
   "cell_type": "code",
   "execution_count": null,
   "id": "d19dac82-bafc-44d9-9867-9e55b90de29f",
   "metadata": {},
   "outputs": [],
   "source": [
    "downsampled_compressed_signal = downsample_and_compress(original_signal, N)\n",
    "plt.figure(figsize=(14, 6))\n",
    "plt.stem(downsampled_compressed_signal)"
   ]
  },
  {
   "cell_type": "code",
   "execution_count": null,
   "id": "58da5cab-3b29-41ec-8fe4-4675d9cd568e",
   "metadata": {},
   "outputs": [],
   "source": [
    "frequencies = np.fft.fftfreq(len(downsampled_compressed_signal), 1 / L)\n",
    "plt.figure(figsize=(8, 6))\n",
    "plt.ylim(0, 120)\n",
    "plt.plot(np.fft.fftshift(frequencies), np.fft.fftshift(np.abs(np.fft.fft(downsampled_compressed_signal))))"
   ]
  },
  {
   "cell_type": "markdown",
   "id": "5f52c70f-fab5-4cad-ad7a-fe50fefa1976",
   "metadata": {},
   "source": [
    "## Upsampling"
   ]
  },
  {
   "cell_type": "code",
   "execution_count": null,
   "id": "3a32d6d0-3100-4fe4-9248-6f56f0fff3ad",
   "metadata": {},
   "outputs": [],
   "source": [
    "def upsample(samples, N):\n",
    "    new_samples = np.zeros(N * len(samples), dtype=samples.dtype)\n",
    "    for idx in range(len(samples)):\n",
    "        new_samples[idx*N] = samples[idx]\n",
    "    return new_samples"
   ]
  },
  {
   "cell_type": "code",
   "execution_count": null,
   "id": "a931d1c2-e59d-4829-8a05-077e617d3798",
   "metadata": {},
   "outputs": [],
   "source": [
    "upsampled_signal = upsample(downsampled_compressed_signal, N)\n",
    "plt.figure(figsize=(14, 6))\n",
    "plt.stem(upsampled_signal)"
   ]
  },
  {
   "cell_type": "code",
   "execution_count": null,
   "id": "83430a05-7cb8-4276-93ba-ef2091ed832c",
   "metadata": {},
   "outputs": [],
   "source": [
    "frequencies = np.fft.fftfreq(len(upsampled_signal), 1/L)\n",
    "plt.figure(figsize=(8, 6))\n",
    "plt.ylim(0, 120)\n",
    "plt.plot(np.fft.fftshift(frequencies), np.fft.fftshift(np.abs(np.fft.fft(upsampled_signal))))"
   ]
  },
  {
   "cell_type": "code",
   "execution_count": null,
   "id": "145d93bb-3a04-49ae-ad47-e02958fbbfc5",
   "metadata": {},
   "outputs": [],
   "source": [
    "where_to_0 = np.where(np.abs(frequencies) > (2*f2))\n",
    "spectrum = np.fft.fft(upsampled_signal)\n",
    "spectrum[where_to_0] = 0\n",
    "upsampled_filtered_spectrum = spectrum"
   ]
  },
  {
   "cell_type": "code",
   "execution_count": null,
   "id": "b40af71e-94ca-45a5-9dae-8775bf765354",
   "metadata": {},
   "outputs": [],
   "source": [
    "frequencies = np.fft.fftfreq(len(upsampled_signal), 1/L)\n",
    "plt.figure(figsize=(8, 6))\n",
    "plt.ylim(0, 120)\n",
    "plt.plot(np.fft.fftshift(frequencies), np.fft.fftshift(np.abs(upsampled_filtered_spectrum)))"
   ]
  },
  {
   "cell_type": "code",
   "execution_count": null,
   "id": "de41dcdc-6e1a-41b1-91e5-c01ca0cad558",
   "metadata": {},
   "outputs": [],
   "source": [
    "reconstructed_signal = np.fft.ifft(upsampled_filtered_spectrum)"
   ]
  },
  {
   "cell_type": "code",
   "execution_count": null,
   "id": "48ec523b-7eb1-4c32-99a0-dee0acf8a677",
   "metadata": {},
   "outputs": [],
   "source": [
    "plt.figure(figsize=(14, 6))\n",
    "plt.stem(reconstructed_signal.real)"
   ]
  },
  {
   "cell_type": "code",
   "execution_count": null,
   "id": "00fdb91c-cc70-4965-98a4-d36a9b6992e3",
   "metadata": {},
   "outputs": [],
   "source": [
    "plt.figure(figsize=(14, 6))\n",
    "plt.stem(original_signal)"
   ]
  },
  {
   "cell_type": "code",
   "execution_count": null,
   "id": "115a222d-96b3-447c-9e09-5db0f7c3af74",
   "metadata": {},
   "outputs": [],
   "source": []
  }
 ],
 "metadata": {
  "kernelspec": {
   "display_name": "Python 3 (ipykernel)",
   "language": "python",
   "name": "python3"
  },
  "language_info": {
   "codemirror_mode": {
    "name": "ipython",
    "version": 3
   },
   "file_extension": ".py",
   "mimetype": "text/x-python",
   "name": "python",
   "nbconvert_exporter": "python",
   "pygments_lexer": "ipython3",
   "version": "3.9.12"
  }
 },
 "nbformat": 4,
 "nbformat_minor": 5
}
