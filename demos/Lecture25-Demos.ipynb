{
 "cells": [
  {
   "cell_type": "markdown",
   "id": "42a30a4e-07e6-4d6d-83f2-68e8e6ac1516",
   "metadata": {},
   "source": [
    "# Lecture 25 Demos"
   ]
  },
  {
   "cell_type": "code",
   "execution_count": null,
   "id": "7a170da0-b225-49d8-8581-6b72fe7c7107",
   "metadata": {},
   "outputs": [],
   "source": [
    "import numpy as np\n",
    "import matplotlib.pyplot as plt\n",
    "\n",
    "plt.rcParams[\"font.size\"] = 14"
   ]
  },
  {
   "cell_type": "markdown",
   "id": "d6fc89c1-65ac-47ec-aacf-40c2d3e0ba20",
   "metadata": {},
   "source": [
    "## Demo 1: the comb filter"
   ]
  },
  {
   "cell_type": "markdown",
   "id": "a21999ec-1433-4f3a-87cb-8a1f94a0a80a",
   "metadata": {},
   "source": [
    "The transfer function of the comb filter with delay $K$ and gain $g$ is \n",
    "\n",
    "$$\n",
    "Q(z) = \\frac{z^K}{z^K - g}\n",
    "$$\n"
   ]
  },
  {
   "cell_type": "markdown",
   "id": "0ac44be2-994f-47d6-9c18-63ebfb76b75e",
   "metadata": {},
   "source": [
    "Let's plot its frequency response:"
   ]
  },
  {
   "cell_type": "code",
   "execution_count": null,
   "id": "b9e93931-33f2-4579-a325-c33f54feeab7",
   "metadata": {},
   "outputs": [],
   "source": [
    "def comb_freq_response(ω, K, g):\n",
    "    return np.exp(1j * ω * K) / (np.exp(1j * ω * K) - g)"
   ]
  },
  {
   "cell_type": "code",
   "execution_count": null,
   "id": "f0657b64-d11a-4fec-a502-e6739c3e26c4",
   "metadata": {},
   "outputs": [],
   "source": [
    "omega_range = np.linspace(0, 10 * np.pi, 10000)"
   ]
  },
  {
   "cell_type": "code",
   "execution_count": null,
   "id": "aa5e71fc-a7b7-48d2-a5ce-e16b591638ec",
   "metadata": {},
   "outputs": [],
   "source": [
    "plt.plot(omega_range, np.abs(comb_freq_response(omega_range, 2, 0.1)), label=\"g = 0.1\")\n",
    "plt.plot(omega_range, np.abs(comb_freq_response(omega_range, 2, 0.5)), label=\"g = 0.5\")\n",
    "plt.plot(omega_range, np.abs(comb_freq_response(omega_range, 2, 0.9)), label=\"g = 0.9\")\n",
    "plt.legend()\n",
    "plt.show()"
   ]
  },
  {
   "cell_type": "code",
   "execution_count": null,
   "id": "c7bbab53-456f-44e5-a202-66d6d326d955",
   "metadata": {},
   "outputs": [],
   "source": [
    "plt.figure(figsize=(20, 5))\n",
    "plt.plot(omega_range, np.abs(comb_freq_response(omega_range, 2, 0.5)), label=\"K = 2\")\n",
    "plt.plot(omega_range, np.abs(comb_freq_response(omega_range, 3, 0.5)), label=\"K = 3\")\n",
    "plt.plot(omega_range, np.abs(comb_freq_response(omega_range, 4, 0.5)), label=\"K = 4\")\n",
    "plt.legend()\n",
    "plt.show()"
   ]
  },
  {
   "cell_type": "code",
   "execution_count": null,
   "id": "08c3a884-b64d-4e1b-93b2-c6c2a86cdd9d",
   "metadata": {},
   "outputs": [],
   "source": [
    "plt.figure(figsize=(20, 5))\n",
    "plt.plot(omega_range, np.angle(comb_freq_response(omega_range, 2, 0.5)), label=\"K = 2\")\n",
    "plt.plot(omega_range, np.angle(comb_freq_response(omega_range, 3, 0.5)), label=\"K = 3\")\n",
    "plt.legend()\n",
    "plt.show()"
   ]
  },
  {
   "cell_type": "markdown",
   "id": "2a29bf62-6c75-4c2f-b8d8-a055b7f9c749",
   "metadata": {},
   "source": [
    "## Demo 2: Karplus-Strong"
   ]
  },
  {
   "cell_type": "markdown",
   "id": "47592827-e359-4ebc-9abd-58969872f25b",
   "metadata": {},
   "source": [
    "The transfer function of the Karplus-Strong algorithm is\n",
    "\n",
    "$$\n",
    "Q(z) = \\frac{1}{1 - \\frac{1}{2}(z^{-K} + z^{-K-1})}\n",
    "$$"
   ]
  },
  {
   "cell_type": "code",
   "execution_count": null,
   "id": "c7df8de7-d0dc-46d7-ad65-19249465a412",
   "metadata": {},
   "outputs": [],
   "source": [
    "def karplus_strong_freq_response(ω, K, g=1):\n",
    "    return 1 / (1 - 0.5 * g * np.exp(1j * ω * (-K)) - 0.5 * g * np.exp(1j * ω * (-K - 1)))"
   ]
  },
  {
   "cell_type": "code",
   "execution_count": null,
   "id": "c11f284c-a7ad-4b86-bb3f-cbfd0b9ef341",
   "metadata": {},
   "outputs": [],
   "source": [
    "sample_rate = 48000\n",
    "freqs = np.arange(1000)\n",
    "omegas = 2 * np.pi * freqs / sample_rate"
   ]
  },
  {
   "cell_type": "code",
   "execution_count": null,
   "id": "2956397b-a565-47e2-b850-1aa3e00177dc",
   "metadata": {},
   "outputs": [],
   "source": [
    "plt.figure(figsize=(20, 5))\n",
    "plt.plot(freqs, 20 * np.log10(np.abs(karplus_strong_freq_response(omegas, 500, 0.999))), label=\"K=500\")\n",
    "plt.plot(freqs, 20 * np.log10(np.abs(karplus_strong_freq_response(omegas, 109, 0.999))), label=\"K=109\")\n",
    "plt.plot(freqs, 20 * np.log10(np.abs(karplus_strong_freq_response(omegas, 70, 0.999))), label=\"K=70\")\n",
    "plt.legend()\n",
    "plt.xlabel(\"Frequency (Hz)\")\n",
    "plt.ylabel(\"20 log10 |H(e^jω)|\")\n",
    "plt.xticks(range(0, 1000, 50))\n",
    "plt.show()"
   ]
  }
 ],
 "metadata": {
  "kernelspec": {
   "display_name": "Python 3 (ipykernel)",
   "language": "python",
   "name": "python3"
  },
  "language_info": {
   "codemirror_mode": {
    "name": "ipython",
    "version": 3
   },
   "file_extension": ".py",
   "mimetype": "text/x-python",
   "name": "python",
   "nbconvert_exporter": "python",
   "pygments_lexer": "ipython3",
   "version": "3.9.7"
  }
 },
 "nbformat": 4,
 "nbformat_minor": 5
}
