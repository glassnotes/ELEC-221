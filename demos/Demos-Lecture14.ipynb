{
 "cells": [
  {
   "cell_type": "markdown",
   "id": "42a30a4e-07e6-4d6d-83f2-68e8e6ac1516",
   "metadata": {},
   "source": [
    "# Lecture 14 Demos"
   ]
  },
  {
   "cell_type": "code",
   "execution_count": null,
   "id": "7a170da0-b225-49d8-8581-6b72fe7c7107",
   "metadata": {},
   "outputs": [],
   "source": [
    "import numpy as np\n",
    "import matplotlib.pyplot as plt"
   ]
  },
  {
   "cell_type": "markdown",
   "id": "3880b1f3-dabc-405a-91c8-20258ba86c5b",
   "metadata": {},
   "source": [
    "## Demo 1: impulse response of second-order CT system"
   ]
  },
  {
   "cell_type": "markdown",
   "id": "e4fb1353-aab9-42b2-9303-04d9fabc363c",
   "metadata": {},
   "source": [
    "For the $\\zeta \\neq 1$ case, \n",
    "$$\n",
    " h(t) =  \\frac{\\omega_{n}}{2\\sqrt{\\zeta^{2} -1}} \\left(e^{c_{+} t} -\n",
    "   e^{c_{-}t}\\right) u(t), \\quad  \\quad c_{\\pm} = -\\zeta \\omega_{n} \\pm \\omega_n \\sqrt{\\zeta^{2}-1}\n",
    "$$   \n",
    "\n",
    "When $\\zeta = 1$, \n",
    "\n",
    "$$\n",
    " h(t) = \\omega_{n}^{2} t e^{-\\omega_{n} t} u(t)\n",
    "$$"
   ]
  },
  {
   "cell_type": "code",
   "execution_count": null,
   "id": "2132440c-8a4f-426f-a2d8-5269f4d77b8d",
   "metadata": {},
   "outputs": [],
   "source": [
    "def compute_impulse_response(ζ, ω_n):\n",
    "    if ζ == 1:\n",
    "        def impulse_response(t):            \n",
    "            return (ω_n ** 2) * t * np.exp(-ω_n * t) \n",
    "        return impulse_response\n",
    "    \n",
    "    # ζ != 1 cases can be considered together\n",
    "    if ζ < 1:\n",
    "        ζ = ζ + 0j\n",
    "    c_p = -ζ * ω_n + ω_n * np.sqrt(ζ ** 2 - 1)\n",
    "    c_m = -ζ * ω_n - ω_n * np.sqrt(ζ ** 2 - 1)\n",
    "\n",
    "    def impulse_response(t):\n",
    "        return ω_n / (2 * np.sqrt(ζ ** 2 - 1)) * (np.exp(c_p * t) - np.exp(c_m * t))\n",
    "\n",
    "    return impulse_response"
   ]
  },
  {
   "cell_type": "code",
   "execution_count": null,
   "id": "f575106b-ca1b-411c-b4ba-33752888b675",
   "metadata": {},
   "outputs": [],
   "source": [
    "times = np.linspace(0, 2, 1000)\n",
    "ζ_values = [0.2, 0.4, 0.8, 1.0, 1.2, 1.4, 1.8]\n",
    "ω_n = 10"
   ]
  },
  {
   "cell_type": "code",
   "execution_count": null,
   "id": "6b95415d-2bc3-40af-9753-802b2c2aaa42",
   "metadata": {},
   "outputs": [],
   "source": [
    "for ζ in ζ_values:\n",
    "    impulse_response = compute_impulse_response(ζ, ω_n)\n",
    "    plt.plot(times, impulse_response(times).real, label=f\"ζ={ζ}\")\n",
    "    \n",
    "plt.ylabel(\"h(t)\")\n",
    "plt.xlabel(\"t\")\n",
    "plt.legend()"
   ]
  },
  {
   "cell_type": "markdown",
   "id": "26707579-ec5d-4a35-838e-a3163eb67f25",
   "metadata": {},
   "source": [
    "## Demo 2: step response of second-order CT system"
   ]
  },
  {
   "cell_type": "markdown",
   "id": "aaf7c113-4a8f-4c7c-ae72-476f1dd92551",
   "metadata": {},
   "source": [
    "For the $\\zeta \\neq 1$ case, \n",
    "$$\n",
    " s(t) =  \\left[1 + \\frac{\\omega_{n}}{2\\sqrt{\\zeta^{2} -1}} \\left(\\frac{e^{c_+ t}}{c_+} - \\frac{e^{c_- t}}{c_-} \\right) \\right] u(t)\n",
    "$$\n",
    "\n",
    "When $\\zeta = 1$, \n",
    "\n",
    "$$\n",
    " s(t) = \\left(1 - e^{-\\omega_{n}t} - \\omega_n t e^{-\\omega_{n} t}\\right) u(t)\n",
    "$$"
   ]
  },
  {
   "cell_type": "code",
   "execution_count": null,
   "id": "88ef1e58-c68d-409b-98cd-85d221d63abc",
   "metadata": {},
   "outputs": [],
   "source": [
    "def compute_step_response(ζ, ω_n):\n",
    "    if ζ == 1:\n",
    "        def step_response(t):            \n",
    "            return 1 - np.exp(-ω_n * t) * (1 + ω_n * t)\n",
    "        return step_response\n",
    "    \n",
    "    if ζ < 1:\n",
    "        ζ = ζ + 0j\n",
    "    c_p = -ζ * ω_n + ω_n * np.sqrt(ζ ** 2 - 1)\n",
    "    c_m = -ζ * ω_n - ω_n * np.sqrt(ζ ** 2 - 1)\n",
    "\n",
    "    def step_response(t):\n",
    "        return 1 + (ω_n / (2 * np.sqrt(ζ ** 2 - 1))) * (np.exp(c_p * t)/c_p - np.exp(c_m * t)/c_m)\n",
    "\n",
    "    return step_response"
   ]
  },
  {
   "cell_type": "code",
   "execution_count": null,
   "id": "fc106356-9acd-4b37-b0a2-9714b043c986",
   "metadata": {},
   "outputs": [],
   "source": [
    "for ζ in ζ_values:\n",
    "    step_response = compute_step_response(ζ, ω_n)\n",
    "    plt.plot(times, step_response(times).real, label=f\"ζ={ζ}\")\n",
    "    \n",
    "plt.ylabel(\"s(t)\")\n",
    "plt.xlabel(\"t\")\n",
    "plt.legend()"
   ]
  },
  {
   "cell_type": "markdown",
   "id": "962a5379-c78a-4fbf-80b3-c5ea9ada555d",
   "metadata": {},
   "source": [
    "## Demo 3: Bode plots"
   ]
  },
  {
   "cell_type": "markdown",
   "id": "a464a907-a701-4833-83bc-0e03ceff64dc",
   "metadata": {},
   "source": [
    "For the $\\zeta \\neq 1$ case, \n",
    "$$\n",
    " H(j\\omega) = \\frac{\\omega_{n}}{2\\sqrt{\\zeta^{2} -1}}\\frac{1}{j\\omega - c_{+}} - \\frac{\\omega_{n}}{2\\sqrt{\\zeta^{2} -1}} \\frac{1}{j\\omega - c_{-}}\n",
    "$$\n",
    "\n",
    "When $\\zeta = 1$, \n",
    "\n",
    "$$\n",
    " H(j\\omega) = \\frac{\\omega_{n}^{2}}{(j\\omega + \\omega_{n})^{2}}\n",
    "$$"
   ]
  },
  {
   "cell_type": "code",
   "execution_count": null,
   "id": "e95e9cc8-a04e-4c9b-8f94-e5b27d8e8cb3",
   "metadata": {},
   "outputs": [],
   "source": [
    "def compute_frequency_response(ζ, ω_n):\n",
    "    if ζ == 1:\n",
    "        def frequency_response(ω):            \n",
    "            return ω_n ** 2 / (1j * ω + ω_n) ** 2\n",
    "        return frequency_response\n",
    "    \n",
    "    if ζ < 1:\n",
    "        ζ = ζ + 0j\n",
    "    \n",
    "    prefactor = ω_n / (2 * np.sqrt(ζ ** 2 - 1))\n",
    "    c_p = -ζ * ω_n + ω_n * np.sqrt(ζ ** 2 - 1)\n",
    "    c_m = -ζ * ω_n - ω_n * np.sqrt(ζ ** 2 - 1)\n",
    "\n",
    "    def frequency_response(ω):\n",
    "        return prefactor * ( (1 / (1j * ω - c_p)) - (1 / (1j * ω - c_m)) )\n",
    "\n",
    "    return frequency_response"
   ]
  },
  {
   "cell_type": "code",
   "execution_count": null,
   "id": "1210dbd0-814c-4f17-9637-1e3d743d3f08",
   "metadata": {},
   "outputs": [],
   "source": [
    "fig, ax = plt.subplots(1, 2, figsize=(10, 4))\n",
    "ω_n = 10\n",
    "omega_range = np.linspace(0, 100 * ω_n, 10000)\n",
    "\n",
    "for ζ in ζ_values:\n",
    "    frequency_response = compute_frequency_response(ζ, ω_n)\n",
    "    ax[0].plot(omega_range, np.abs(frequency_response(omega_range)), label=f\"ζ={ζ}\")\n",
    "    ax[1].plot(omega_range, np.angle(frequency_response(omega_range)), label=f\"ζ={ζ}\")  \n",
    "    \n",
    "ax[0].set_xlabel(\"ω\")\n",
    "ax[0].set_ylabel(\"|H(jω)|\")\n",
    "\n",
    "ax[1].set_xlabel(\"ω\")\n",
    "ax[1].set_ylabel(\"Phase(H(jω))\")\n",
    "\n",
    "plt.legend()"
   ]
  },
  {
   "cell_type": "code",
   "execution_count": null,
   "id": "d6967b8e-7cac-49fb-a858-fe772261f19a",
   "metadata": {},
   "outputs": [],
   "source": [
    "fig, ax = plt.subplots(1, 2, figsize=(10, 4))\n",
    "ω_n = 10\n",
    "omega_range = np.linspace(0, 100 * ω_n, 10000)\n",
    "\n",
    "for ζ in ζ_values:\n",
    "    frequency_response = compute_frequency_response(ζ, ω_n)\n",
    "    ax[0].plot(omega_range, 20 * np.log10(np.abs(frequency_response(omega_range))), label=f\"ζ={ζ}\")\n",
    "    ax[1].plot(omega_range, np.angle(frequency_response(omega_range)), label=f\"ζ={ζ}\")  \n",
    "    \n",
    "ax[0].set_xlabel(\"ω\")\n",
    "ax[0].set_ylabel(\"20 log10 |H(jω)|\")\n",
    "ax[0].set_xscale(\"log\")\n",
    "\n",
    "ax[1].set_xlabel(\"ω\")\n",
    "ax[1].set_ylabel(\"Phase(H(jω))\")\n",
    "ax[1].set_xscale(\"log\")\n",
    "\n",
    "plt.legend()"
   ]
  },
  {
   "cell_type": "code",
   "execution_count": null,
   "id": "9aae5643-04c9-42df-bdb3-c268faad8597",
   "metadata": {},
   "outputs": [],
   "source": []
  }
 ],
 "metadata": {
  "kernelspec": {
   "display_name": "Python 3 (ipykernel)",
   "language": "python",
   "name": "python3"
  },
  "language_info": {
   "codemirror_mode": {
    "name": "ipython",
    "version": 3
   },
   "file_extension": ".py",
   "mimetype": "text/x-python",
   "name": "python",
   "nbconvert_exporter": "python",
   "pygments_lexer": "ipython3",
   "version": "3.12.3"
  }
 },
 "nbformat": 4,
 "nbformat_minor": 5
}
