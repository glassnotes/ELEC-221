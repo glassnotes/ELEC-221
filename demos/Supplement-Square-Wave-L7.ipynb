{
 "cells": [
  {
   "cell_type": "markdown",
   "id": "42a30a4e-07e6-4d6d-83f2-68e8e6ac1516",
   "metadata": {},
   "source": [
    "# Square wave Fourier coefficients (supplementary)"
   ]
  },
  {
   "cell_type": "code",
   "execution_count": null,
   "id": "7a170da0-b225-49d8-8581-6b72fe7c7107",
   "metadata": {},
   "outputs": [],
   "source": [
    "import numpy as np\n",
    "import matplotlib.pyplot as plt"
   ]
  },
  {
   "cell_type": "markdown",
   "id": "ada5ac96-dac0-44b3-8b34-d1ba2a189059",
   "metadata": {},
   "source": [
    "We began with the square wave\n",
    "\n",
    "$$\n",
    "\\begin{equation*}\n",
    "  x(t) = \\begin{cases}\n",
    "           1, \\quad  0 < t < \\pi,\\\\\n",
    "           -1, \\quad \\pi < t < 2\\pi\n",
    "         \\end{cases}\n",
    "       \\end{equation*}\n",
    "$$\n",
    "\n",
    "We evaluated the Fourier coefficients and obtained\n",
    "\n",
    "$$\n",
    "\\begin{eqnarray*}\n",
    "  x(t) &=& \\sum_{k=1}^{\\infty} b_{k} \\sin(k t) , \\quad  b_{k} = \\begin{cases}\n",
    "              0, \\quad k \\% 2 = 0\\\\\n",
    "              4 / k\\pi,\\quad k \\% 2 = 1 \n",
    "              \\end{cases}\n",
    "\\end{eqnarray*}\n",
    "$$"
   ]
  },
  {
   "cell_type": "markdown",
   "id": "a256a47b-26ec-45e3-9ba9-05f043ac0f49",
   "metadata": {},
   "source": [
    "Let's plot a couple of these harmonics separately, then see how they combine."
   ]
  },
  {
   "cell_type": "code",
   "execution_count": null,
   "id": "77ac1cbf-4dda-47de-a7a9-075c17617e47",
   "metadata": {},
   "outputs": [],
   "source": [
    "t_range = np.linspace(-3*np.pi, 3*np.pi, 1000)\n",
    "\n",
    "plt.figure(figsize=(12, 8))\n",
    "for k in range(1, 8, 2): # First four odd harmonics\n",
    "    plt.plot(t_range, 4 / (k * np.pi) * np.sin(k * t_range), label=f\"k={k}\") \n",
    "plt.legend()"
   ]
  },
  {
   "cell_type": "markdown",
   "id": "4da8229f-2cd5-4e3a-9046-da12a360846f",
   "metadata": {},
   "source": [
    "We can see how everything \"fits\" inside the shape of a square wave. Note also the fact that we have odd harmonics, which cause the signal to accumulate symmetrically near the sides of the wave, instead of in the middle. Let's sum them up and see what happens."
   ]
  },
  {
   "cell_type": "code",
   "execution_count": null,
   "id": "99a3809a-f02c-4b8a-8912-a13deac4afbc",
   "metadata": {},
   "outputs": [],
   "source": [
    "plt.figure(figsize=(16, 8))\n",
    "\n",
    "for max_k in range(1, 8, 2): # First four odd harmonics\n",
    "    signal_sum = np.zeros_like(t_range)\n",
    "    for k in range(1, max_k+1, 2):\n",
    "        signal_sum += 4 / (k * np.pi) * np.sin(k * t_range)\n",
    "    plt.plot(t_range, signal_sum, label=f\"max_k={max_k}\") \n",
    "plt.legend()"
   ]
  },
  {
   "cell_type": "markdown",
   "id": "52507ba9-20f3-4114-ac92-5d383d6d2bc6",
   "metadata": {},
   "source": [
    "We can equivalently re-express the signal as a full Fourier series by using Euler's relation:\n",
    "\n",
    "$$\n",
    "\\begin{eqnarray*}\n",
    "  x(t) &=& \\sum_{k=1}^{\\infty} b_{k} \\sin(k t) \\\\\n",
    "    &=& \\sum_{k=1}^{\\infty} \\frac{4}{k\\pi} \\frac{ \\left( e^{jkt} - e^{-jkt} \\right)}{2j} \\\\\n",
    "    &=& \\sum_{k=1}^{\\infty} -\\frac{2j}{k\\pi}  \\left( e^{jkt} - e^{-jkt} \\right) \\\\\n",
    "    &=& \\sum_{k=1}^{\\infty} -\\frac{2j}{k\\pi} e^{jkt} - \\sum_{k=1}^{\\infty} \\left(-\\frac{2j}{k\\pi} \\right) e^{-jkt} \\\\\n",
    "    &=& \\sum_{k=1}^{\\infty} -\\frac{2j}{k\\pi} e^{jkt} - \\sum_{k=-1}^{-\\infty} \\left(\\frac{2j}{k\\pi} \\right) e^{jkt} \\\\\n",
    "    &=& \\sum_{k=-\\infty}^{\\infty} -\\frac{2j}{k\\pi} e^{jkt}\n",
    "\\end{eqnarray*}\n",
    "$$\n",
    "\n",
    "where we still have the condition that only odd $k$ contribute."
   ]
  },
  {
   "cell_type": "code",
   "execution_count": null,
   "id": "b3bdaecf-9ac0-4f07-8ee3-197f5816f56d",
   "metadata": {},
   "outputs": [],
   "source": [
    "def coeffs(k):\n",
    "    return -2j / (k * np.pi) if k % 2 == 1 else 0\n",
    "\n",
    "def square_shifted(t, ω, max_k=100):\n",
    "    \"\"\"Fourier synthesis equation. Sum from -max_k to max_k+1 now\"\"\"\n",
    "    return np.sum([coeffs(k) * np.exp(1j * k * ω * t) for k in range(-max_k, max_k+1)]).real\n",
    "\n",
    "plt.plot(t_range, [square_shifted(t, 1) for t in t_range]) "
   ]
  },
  {
   "cell_type": "markdown",
   "id": "b4e0f80d-5fa0-4ece-b744-bafaf7e116a3",
   "metadata": {},
   "source": [
    "Finally, let's see what happens if we instead plot the even harmonics."
   ]
  },
  {
   "cell_type": "code",
   "execution_count": null,
   "id": "871876c9-515d-4854-a26e-a0312d8be23a",
   "metadata": {},
   "outputs": [],
   "source": [
    "plt.figure(figsize=(14, 8))\n",
    "for k in range(2, 9, 2): # First four odd harmonics\n",
    "    plt.plot(t_range, 4 / (k * np.pi) * np.sin(k * t_range), label=f\"k={k}\") \n",
    "plt.legend();"
   ]
  },
  {
   "cell_type": "markdown",
   "id": "e745d9da-fecb-4538-980c-bc929664ec5d",
   "metadata": {},
   "source": [
    "You may already be able to see that this wont's lead to a square wave."
   ]
  },
  {
   "cell_type": "code",
   "execution_count": null,
   "id": "2d8fa113-a762-4293-95c7-65f6411476bd",
   "metadata": {},
   "outputs": [],
   "source": [
    "plt.figure(figsize=(16, 8))\n",
    "\n",
    "for max_k in range(2, 9, 2): # First four odd harmonics\n",
    "    signal_sum = np.zeros_like(t_range)\n",
    "    for k in range(2, max_k+1, 2):\n",
    "        signal_sum += 4 / (k * np.pi) * np.sin(k * t_range)\n",
    "    plt.plot(t_range, signal_sum, label=f\"max_k={max_k}\") \n",
    "plt.legend()"
   ]
  },
  {
   "cell_type": "markdown",
   "id": "2803d650-bb0a-4316-b0f3-c953113cd412",
   "metadata": {},
   "source": [
    "This is a perfectly valid signal, it's just not a square wave! In the limit of infinite $k$, it's called a sawtooth."
   ]
  },
  {
   "cell_type": "code",
   "execution_count": null,
   "id": "7e3fefe8-2777-4d12-adde-782e26807050",
   "metadata": {},
   "outputs": [],
   "source": []
  }
 ],
 "metadata": {
  "kernelspec": {
   "display_name": "Python 3 (ipykernel)",
   "language": "python",
   "name": "python3"
  },
  "language_info": {
   "codemirror_mode": {
    "name": "ipython",
    "version": 3
   },
   "file_extension": ".py",
   "mimetype": "text/x-python",
   "name": "python",
   "nbconvert_exporter": "python",
   "pygments_lexer": "ipython3",
   "version": "3.9.7"
  }
 },
 "nbformat": 4,
 "nbformat_minor": 5
}
