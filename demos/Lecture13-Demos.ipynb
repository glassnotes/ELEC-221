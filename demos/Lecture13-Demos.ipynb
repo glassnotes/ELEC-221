{
 "cells": [
  {
   "cell_type": "markdown",
   "id": "42a30a4e-07e6-4d6d-83f2-68e8e6ac1516",
   "metadata": {},
   "source": [
    "# Lecture 13 Demos"
   ]
  },
  {
   "cell_type": "code",
   "execution_count": null,
   "id": "7a170da0-b225-49d8-8581-6b72fe7c7107",
   "metadata": {},
   "outputs": [],
   "source": [
    "import numpy as np\n",
    "import matplotlib.pyplot as plt\n",
    "import time\n",
    "import scipy as sp"
   ]
  },
  {
   "cell_type": "markdown",
   "id": "538d7573-9323-4faf-98ea-fff4d115fc2d",
   "metadata": {},
   "source": [
    "Let's define some arbitrary DT signal:"
   ]
  },
  {
   "cell_type": "code",
   "execution_count": null,
   "id": "d9587145-30dd-461d-be00-f697d13573f4",
   "metadata": {},
   "outputs": [],
   "source": [
    "def random_signal_generator(N):\n",
    "    return (np.random.uniform(size=N) * np.arange(N) / N)"
   ]
  },
  {
   "cell_type": "code",
   "execution_count": null,
   "id": "491d3a42-99e2-45e7-9a66-d97749bb3d6c",
   "metadata": {},
   "outputs": [],
   "source": [
    "plt.stem(random_signal_generator(100))"
   ]
  },
  {
   "cell_type": "markdown",
   "id": "3880b1f3-dabc-405a-91c8-20258ba86c5b",
   "metadata": {},
   "source": [
    "## DFT with matrix multiplication"
   ]
  },
  {
   "cell_type": "code",
   "execution_count": null,
   "id": "e85bc5ba-1eba-482b-9915-9df3e3e3498d",
   "metadata": {},
   "outputs": [],
   "source": [
    "def construct_dft_matrix(N, method=\"fastest\"):\n",
    "    ζ = np.exp(-1j * 2 * np.pi / N)\n",
    "    mat = np.ones((N, N), dtype=np.complex128)\n",
    "    \n",
    "    # Slowest method uses a nested for loop\n",
    "    if method == \"slow\":\n",
    "        for row_idx in range(N):\n",
    "            for col_idx in range(N):\n",
    "                mat[row_idx, col_idx] = ζ ** (row_idx * col_idx)\n",
    "\n",
    "    # Slightly faster method leveraging the relationships between\n",
    "    # rows of the DFT matrix.\n",
    "    if method == \"fast\":\n",
    "        mat[1] = np.array([ζ ** n for n in range(N)])\n",
    "        for row in range(2, N):\n",
    "            mat[row] = mat[1] ** row\n",
    "            \n",
    "    # Blazing fast: use the FFT! \n",
    "    if method == \"fastest\":\n",
    "        mat = np.fft.fft(np.eye(N))\n",
    "        \n",
    "    return mat"
   ]
  },
  {
   "cell_type": "code",
   "execution_count": null,
   "id": "963c281b-b877-487e-b878-e3cb6629c106",
   "metadata": {},
   "outputs": [],
   "source": [
    "def naive_dft(signal):\n",
    "    dft_matrix = construct_dft_matrix(len(signal))\n",
    "    \n",
    "    start = time.time()\n",
    "    np.dot(dft_matrix, signal)\n",
    "    end = time.time()\n",
    "    \n",
    "    return end - start"
   ]
  },
  {
   "cell_type": "code",
   "execution_count": null,
   "id": "646ce936-f572-47f1-8f79-e34bfea4f351",
   "metadata": {},
   "outputs": [],
   "source": [
    "# Depending on how much RAM you have, you may need to decrease the maximum \n",
    "# exponent here from 16 to something lower.\n",
    "powers_of_two = [2 ** n for n in range(8, 16)]\n",
    "time_data = []\n",
    "\n",
    "for N in powers_of_two:\n",
    "    signal = random_signal_generator(N)\n",
    "    time_data.append(naive_dft(signal))"
   ]
  },
  {
   "cell_type": "code",
   "execution_count": null,
   "id": "24f7b511-0a6e-4fe8-a15b-cbb465ae5c8a",
   "metadata": {},
   "outputs": [],
   "source": [
    "plt.plot(powers_of_two, time_data)"
   ]
  },
  {
   "cell_type": "markdown",
   "id": "ef585fdb-f294-47d3-ba72-4127842821d2",
   "metadata": {},
   "source": [
    "## Naive FFT with recursion"
   ]
  },
  {
   "cell_type": "markdown",
   "id": "79390080-f321-40c5-8fa5-b09f1b93ad47",
   "metadata": {},
   "source": [
    "$$    \n",
    "\\tilde{X}[k] = \\sum_{m=0}^{N/2-1} x[2m] e^{-j\\frac{2\\pi}{N/2} k m} + e^{-jk\n",
    "          \\frac{2\\pi}{N}} \\sum_{m=0}^{N/2-1} x[2m+1] e^{-j\\frac{2\\pi}{N/2} k m}\n",
    "$$"
   ]
  },
  {
   "cell_type": "markdown",
   "id": "af37c451-b0f1-438b-80a8-c7c370569b44",
   "metadata": {},
   "source": [
    "The method below was adapted from a nice [tutorial about the FFT algorithm](https://nbviewer.org/url/jakevdp.github.io/downloads/notebooks/UnderstandingTheFFT.ipynb)."
   ]
  },
  {
   "cell_type": "code",
   "execution_count": null,
   "id": "a18981cc-79db-439f-b48d-491cfaa66fdf",
   "metadata": {},
   "outputs": [],
   "source": [
    "def naive_fft(signal):\n",
    "    N = len(signal)\n",
    "\n",
    "    if N == 1:\n",
    "        return signal\n",
    "    \n",
    "    even_part = signal[::2]\n",
    "    odd_part = signal[1::2]\n",
    "    \n",
    "    even_fft = naive_fft(even_part)\n",
    "    odd_fft = naive_fft(odd_part)\n",
    "    \n",
    "    extra_factors = np.array([np.exp(-1j * k * 2 * np.pi / N) for k in range(N)])\n",
    "    \n",
    "    result = np.zeros(N, dtype=np.complex128)\n",
    "    result[:N//2] = even_fft + extra_factors[:N//2] * odd_fft\n",
    "    result[N//2:] = even_fft - extra_factors[N//2:] * odd_fft\n",
    "\n",
    "    return result "
   ]
  },
  {
   "cell_type": "code",
   "execution_count": null,
   "id": "6b3a7885-edd7-4a17-b07b-f069691fa1d7",
   "metadata": {},
   "outputs": [],
   "source": [
    "better_time_data = []\n",
    "\n",
    "for N in powers_of_two:\n",
    "    signal = random_signal_generator(N)\n",
    "    start = time.time()\n",
    "    naive_fft(signal)\n",
    "    end = time.time()\n",
    "    better_time_data.append(end - start)"
   ]
  },
  {
   "cell_type": "code",
   "execution_count": null,
   "id": "8797b28c-616c-498c-9bb8-88c4b129a9d1",
   "metadata": {},
   "outputs": [],
   "source": [
    "plt.plot(powers_of_two, time_data)\n",
    "plt.plot(powers_of_two, better_time_data)"
   ]
  },
  {
   "cell_type": "markdown",
   "id": "9282a2a1-25b7-4f87-af88-aef34c045058",
   "metadata": {},
   "source": [
    "## NumPy FFT "
   ]
  },
  {
   "cell_type": "code",
   "execution_count": null,
   "id": "e2ed5fdd-8b7e-42b4-b2c3-c85b37b2993c",
   "metadata": {},
   "outputs": [],
   "source": [
    "best_time_data = []\n",
    "\n",
    "for N in powers_of_two:\n",
    "    signal = random_signal_generator(N)\n",
    "    start = time.time()\n",
    "    np.fft.fft(signal)\n",
    "    end = time.time()\n",
    "    best_time_data.append(end - start)"
   ]
  },
  {
   "cell_type": "code",
   "execution_count": null,
   "id": "b5f4a2e4-a667-4a08-bd7b-195a271855c2",
   "metadata": {},
   "outputs": [],
   "source": [
    "plt.plot(powers_of_two, time_data)\n",
    "plt.plot(powers_of_two, better_time_data)\n",
    "plt.plot(powers_of_two, best_time_data)"
   ]
  },
  {
   "cell_type": "code",
   "execution_count": null,
   "id": "9758063c-a3db-42e2-a904-ae1976a909bb",
   "metadata": {},
   "outputs": [],
   "source": []
  }
 ],
 "metadata": {
  "kernelspec": {
   "display_name": "Python 3",
   "language": "python",
   "name": "python3"
  },
  "language_info": {
   "codemirror_mode": {
    "name": "ipython",
    "version": 3
   },
   "file_extension": ".py",
   "mimetype": "text/x-python",
   "name": "python",
   "nbconvert_exporter": "python",
   "pygments_lexer": "ipython3",
   "version": "3.8.5"
  }
 },
 "nbformat": 4,
 "nbformat_minor": 5
}
